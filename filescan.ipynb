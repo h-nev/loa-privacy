{
 "cells": [
  {
   "cell_type": "markdown",
   "metadata": {},
   "source": [
    "## Auto-Read Datasets & PII Scan"
   ]
  },
  {
   "cell_type": "markdown",
   "metadata": {},
   "source": [
    "Enviornment for developing a quick method to scan through datasets and see what PPID and PID are included."
   ]
  },
  {
   "cell_type": "code",
   "execution_count": 1,
   "metadata": {},
   "outputs": [],
   "source": [
    "from scipy import stats\n",
    "import pandas as pd\n",
    "import numpy as np\n",
    "\n",
    "import seaborn as sns\n",
    "import matplotlib.pyplot as plt\n",
    "\n",
    "from pathlib import Path"
   ]
  },
  {
   "cell_type": "code",
   "execution_count": 2,
   "metadata": {},
   "outputs": [],
   "source": [
    "loc1 = 'data/chicagoParole.csv'\n",
    "loc2 = 'data/Strategic_Subject_List_-_Historical_20240320.csv'"
   ]
  },
  {
   "cell_type": "markdown",
   "metadata": {},
   "source": [
    "## Original Function"
   ]
  },
  {
   "cell_type": "code",
   "execution_count": 3,
   "metadata": {},
   "outputs": [],
   "source": [
    "def pii_violation(csv_filePath: str, pii_roots = ['Name', 'Date', 'Time', 'Address', 'Residence', 'County', 'State', 'District', 'Street', 'Code', 'Number', 'Age', 'Ethnicity', 'Gender', 'Occupation', 'Status', 'DOB', 'Year', 'Month', 'Day']):\n",
    "    # read in the CSV\n",
    "    data = pd.read_csv(csv_filePath)  \n",
    "\n",
    "    # create a lowercase version of whatever was passed in or the default list\n",
    "    pii_roots = [x.lower() for x in pii_roots] \n",
    "\n",
    "    # container for the hit columns\n",
    "    suspected_pii = []\n",
    "\n",
    "    # check each of the columns against our pii_roots (the default or a custom one)\n",
    "    for col in data.columns:\n",
    "        # make sure everything is the same regardless of casing\n",
    "        lowercol = col.lower()\n",
    "\n",
    "        # check the lower case versions, but append the normal column\n",
    "        if len(set(lowercol.split(' ')).intersection(pii_roots)) > 0:\n",
    "            # the roots matched, so the column(s) have a space as a delimiter\n",
    "            suspected_pii.append(col)\n",
    "\n",
    "        elif len(set(lowercol.split('_')).intersection(pii_roots)) > 0:\n",
    "            # the roots matched, so the column(s) have '_' as a delimiter\n",
    "            suspected_pii.append(col)\n",
    "        elif len(set(lowercol.split('-')).intersection(pii_roots)) > 0:\n",
    "            # the roots matched, so the column(s) have '-' as a delimiter\n",
    "            suspected_pii.append(col)\n",
    "\n",
    "    # hits in comparison to the columns\n",
    "    hitRate = round(len(suspected_pii) / len(data.columns), 2)\n",
    "\n",
    "    return suspected_pii, hitRate"
   ]
  },
  {
   "cell_type": "markdown",
   "metadata": {},
   "source": [
    "## Class\n",
    "\n",
    "Upgrades the function into something more robuts and useful."
   ]
  },
  {
   "cell_type": "code",
   "execution_count": 4,
   "metadata": {},
   "outputs": [],
   "source": [
    "class PIIScan():\n",
    "    def __init__(self, filePath: str, pii = ['Name', 'Date', 'Time', 'Address', 'Street', 'Residence', 'Country', 'County', 'State', 'District', 'Code', 'Number', 'Age', 'Ethnicity', 'Gender', 'Occupation', 'Status', 'DOB', 'Year', 'Month', 'Day']):\n",
    "        '''\n",
    "        Reads a dataset (csv or xlsx supported) given a filepath, saves it and the metadata, and checks for partial or complete PII matches.\n",
    "\n",
    "        Inputs:\n",
    "            - (str) filePath: the relative or full path to the CSV or XLSX file\n",
    "            - (list-like) pii: optional list of custom key words that we want to locate in the dataset features that may be PII. Default provided.\n",
    "\n",
    "        Returns:\n",
    "            - None. All information is saved to the object.\n",
    "\n",
    "        Attributes Defined Here:\n",
    "            - (str) filePath: The relative or full path to the data that was provided\n",
    "            - (str) fileName: The name of the file minus the extension\n",
    "            - (str) fileExtension: The extension name like 'csv' or 'xlsx'\n",
    "            - (list: str) features: All column (feature) names\n",
    "            - (list: str) roots: All key words that we assume are associated with PII (default provided)\n",
    "\n",
    "        Attributes Defined Elsewhere:\n",
    "            - (pd.DataFrame) df: Data stored in DataFrame format\n",
    "            - (list: str) matches: List of unique column (feature) names that were found to be partial or complete matches to something in the PII list\n",
    "            - (float) hitRate: Proportion of possibly PII columns in the dataset. Rounded to 2 decimal places)\n",
    "            - (pd.Series) nan: Feature name and proportion of it's entries that are NAN\n",
    "        '''\n",
    "        \n",
    "        # save the file path, name, and extension (mainly for report purposes)\n",
    "        self.filePath = filePath\n",
    "        self.fileName = Path(filePath).stem\n",
    "        self.fileExtension = filePath.split('.')[-1]\n",
    "\n",
    "        # get and save the data\n",
    "        self._readFile()\n",
    "        self.features = list(self.df.columns)\n",
    "\n",
    "        # save the lowercase version of roots passed in or used from default\n",
    "        self.roots = [root.lower() for root in pii]\n",
    "\n",
    "        # check for PII hits\n",
    "        print('Checking for PII Violations...')\n",
    "        self._piiViolation()\n",
    "\n",
    "        print('Reporting...\\n')\n",
    "\n",
    "        print(self)\n",
    "\n",
    "    def __str__(self):\n",
    "        return f' File: {self.fileName} \\n File Type: {self.fileExtension} \\n Features: {len(self.features)} \\n Records: {len(self.df)} \\n\\n Possible PII Matches: {len(self.matches)} \\n Hit Rate: {self.hitRate} \\n\\n Possible Matches: {self.matches} '\n",
    "\n",
    "    def _readFile(self):\n",
    "        '''\n",
    "        Reads the datafile into a pandas DataFrame. Used in the initialization of the object.\n",
    "\n",
    "        Inputs:\n",
    "            - None\n",
    "\n",
    "        Returns:\n",
    "            - None\n",
    "\n",
    "        Attributes Defined Here:\n",
    "            - (pd.DataFrame) df: Data stored in DataFrame format\n",
    "            - (pd.Series) nan: Feature name and proportion of it's entries that are NAN\n",
    "        '''\n",
    "        \n",
    "        if self.fileExtension == 'csv':\n",
    "            print('Reading CSV...')\n",
    "        \n",
    "            self.df = pd.read_csv(self.filePath)\n",
    "        \n",
    "        elif self.fileExtension == 'xlsx':\n",
    "            print('Reading XLSX...')\n",
    "\n",
    "            self.df = pd.read_excel(self.filePath)\n",
    "        \n",
    "        else:\n",
    "            print(f'Extension not recognized: {self.fileExtension}')\n",
    "\n",
    "        # Feature NAN analysis (what proportion of the feature is NAN?)\n",
    "        print('Running feature NAN Analysis...')\n",
    "        self.nan = self.df.isna().mean()\n",
    "        \n",
    "    def _piiViolation(self):\n",
    "        '''\n",
    "        Runs the PII-matching method. Given the pandas representation of the data, look at the columns (features) and record the ones that contain the PII keywords we defined.\n",
    "\n",
    "        Inputs:\n",
    "            - None\n",
    "\n",
    "        Returns:\n",
    "            - None\n",
    "\n",
    "        Attributes Defined Here:\n",
    "            - (list: str) matches: List of unique column (feature) names that were found to be partial or complete matches to something in the PII list\n",
    "            - (float) hitRate: Proportion of possibly PII columns in the dataset. Rounded to 2 decimal places)\n",
    "        '''\n",
    "                \n",
    "        # container for the hit columns\n",
    "        suspected_pii = []\n",
    "\n",
    "        # check each of the columns against our pii_roots (the default or a custom one)\n",
    "        for col in self.features:\n",
    "            # make sure everything is the same regardless of casing\n",
    "            lowercol = col.lower()\n",
    "\n",
    "            # check the lower case versions, but append the normal column\n",
    "            if len(set(lowercol.split(' ')).intersection(self.roots)) > 0:\n",
    "                # the roots matched, so the column(s) have a space as a delimiter\n",
    "                suspected_pii.append(col)\n",
    "\n",
    "            elif len(set(lowercol.split('_')).intersection(self.roots)) > 0:\n",
    "                # the roots matched, so the column(s) have '_' as a delimiter\n",
    "                suspected_pii.append(col)\n",
    "\n",
    "            elif len(set(lowercol.split('-')).intersection(self.roots)) > 0:\n",
    "                # the roots matched, so the column(s) have '-' as a delimiter\n",
    "                suspected_pii.append(col)\n",
    "\n",
    "        # get rid of any duplicates we've amassed and save it\n",
    "        self.matches = list(np.unique(suspected_pii))\n",
    "        self.hitRate = round(len(suspected_pii) / len(self.features), 2)\n",
    "\n",
    "    def getData(self):\n",
    "        '''\n",
    "        Getter for the dataframe and the possible PII matches. \n",
    "\n",
    "        Inputs:\n",
    "            - None\n",
    "\n",
    "        Returns:\n",
    "            - (pd.DataFrame) df: Data stored in DataFrame format\n",
    "            - (list: str) matches: List of unique column (feature) names that were found to be partial or complete matches to something in the PII list\n",
    "        '''\n",
    "        return self.df, self.matches\n",
    "    \n",
    "    def getNan(self):\n",
    "        '''\n",
    "        Returns the columns that have some number of NANs in them.\n",
    "\n",
    "        Inputs:\n",
    "            - None\n",
    "\n",
    "        Returns:\n",
    "            - (pd.Series): Column (feature) names that have a proportion of NANs that greater than 0\n",
    "        '''\n",
    "\n",
    "        return self.nan[self.nan > 0]"
   ]
  },
  {
   "cell_type": "markdown",
   "metadata": {},
   "source": [
    "## Testing the Class"
   ]
  },
  {
   "cell_type": "code",
   "execution_count": 5,
   "metadata": {},
   "outputs": [
    {
     "name": "stdout",
     "output_type": "stream",
     "text": [
      "Reading CSV...\n",
      "Running feature NAN Analysis...\n",
      "Checking for PII Violations...\n",
      "Reporting...\n",
      "\n",
      " File: chicagoParole \n",
      " File Type: csv \n",
      " Features: 30 \n",
      " Records: 15630 \n",
      "\n",
      " Possible PII Matches: 12 \n",
      " Hit Rate: 0.4 \n",
      "\n",
      " Possible Matches: ['Age', 'County of Residence', 'Current Admission Date', 'Custody Date', 'Date of Birth', 'MSR/Parole Date', 'Name', 'Projected Discharge Date', 'Residence Zip Code', 'Sentence Date', 'Sentencing County', 'Veteran Status'] \n"
     ]
    }
   ],
   "source": [
    "# default roots\n",
    "chicagoParole = PIIScan('data/chicagoParole.csv')\n",
    "# print(chicagoParole)"
   ]
  },
  {
   "cell_type": "code",
   "execution_count": 6,
   "metadata": {},
   "outputs": [
    {
     "data": {
      "text/plain": [
       "Projected Discharge Date    0.097057\n",
       "Latitude                    0.001663\n",
       "Longitude                   0.001663\n",
       "New Offense Category        0.001599\n",
       "Years Until Discharge       0.097057\n",
       "dtype: float64"
      ]
     },
     "execution_count": 6,
     "metadata": {},
     "output_type": "execute_result"
    }
   ],
   "source": [
    "chicagoParole.getNan()"
   ]
  },
  {
   "cell_type": "code",
   "execution_count": 7,
   "metadata": {},
   "outputs": [],
   "source": [
    "# chicago parole dataframe and possible matches\n",
    "cpdf, cppm = chicagoParole.getData()\n",
    "\n",
    "# commenting this line out because it shows real names\n",
    "# cpdf[cppm].head()"
   ]
  },
  {
   "cell_type": "code",
   "execution_count": 8,
   "metadata": {},
   "outputs": [
    {
     "name": "stdout",
     "output_type": "stream",
     "text": [
      "Reading CSV...\n"
     ]
    },
    {
     "name": "stderr",
     "output_type": "stream",
     "text": [
      "/var/folders/sw/s4dmzgv113lb3_sdwwd28tv40000gn/T/ipykernel_5442/2745220228.py:68: DtypeWarning: Columns (47) have mixed types. Specify dtype option on import or set low_memory=False.\n",
      "  self.df = pd.read_csv(self.filePath)\n"
     ]
    },
    {
     "name": "stdout",
     "output_type": "stream",
     "text": [
      "Running feature NAN Analysis...\n",
      "Checking for PII Violations...\n",
      "Reporting...\n",
      "\n",
      " File: Strategic_Subject_List_-_Historical_20240320 \n",
      " File Type: csv \n",
      " Features: 48 \n",
      " Records: 398684 \n",
      "\n",
      " Possible PII Matches: 15 \n",
      " Hit Rate: 0.31 \n",
      "\n",
      " Possible Matches: ['AGE CURR', 'AGE GROUP', 'AGE TO', 'IDOC RES STATE CODE', 'IDOC RES ZIP CODE', 'LATEST DATE', 'LATEST DOMESTIC ARR DATE', 'LATEST NARCOTIC ARR DATE', 'LATEST WEAPON ARR DATE', 'PREDICTOR RAT AGE AT LATEST ARREST', 'RACE CODE CD', 'SEX CODE CD', 'SSL LAST PTV DATE', 'STATUS I', 'TRAP STATUS'] \n"
     ]
    }
   ],
   "source": [
    "other = PIIScan(loc2)\n",
    "# print(other)"
   ]
  },
  {
   "cell_type": "code",
   "execution_count": 9,
   "metadata": {},
   "outputs": [],
   "source": [
    "# other dataframe and possible matches\n",
    "otherdf, otherpm = other.getData()\n",
    "\n",
    "# otherdf[otherpm]"
   ]
  },
  {
   "cell_type": "code",
   "execution_count": 10,
   "metadata": {},
   "outputs": [
    {
     "data": {
      "text/plain": [
       "PREDICTOR RAT AGE AT LATEST ARREST    0.000256\n",
       "AGE GROUP                             0.000384\n",
       "AGE TO                                0.000384\n",
       "STOP ORDER NO                         0.995844\n",
       "PAROLEE I                             0.967182\n",
       "MAJORITY DIST                         0.366240\n",
       "DLST                                  0.852113\n",
       "WEAPONS ARR CNT                       0.951974\n",
       "LATEST WEAPON ARR DATE                0.951974\n",
       "NARCOTICS ARR CNT                     0.767217\n",
       "LATEST NARCOTIC ARR DATE              0.767217\n",
       "IDOC RES CITY                         0.852156\n",
       "IDOC RES STATE CODE                   0.852151\n",
       "IDOC RES ZIP CODE                     0.853852\n",
       "IDOC CPD DIST                         0.971852\n",
       "DOMESTIC ARR CNT                      0.829123\n",
       "LATEST DOMESTIC ARR DATE              0.829123\n",
       "AGE CURR                              0.000604\n",
       "SSL LAST PTV DATE                     0.964398\n",
       "TRAP STATUS                           0.992179\n",
       "TRAP FLAGS                            0.999737\n",
       "SSL FLAGS                             0.998876\n",
       "LATITUDE                              0.437562\n",
       "LONGITUDE                             0.437562\n",
       "CENSUS TRACT                          0.428713\n",
       "LOCATION                              0.437562\n",
       "dtype: float64"
      ]
     },
     "execution_count": 10,
     "metadata": {},
     "output_type": "execute_result"
    }
   ],
   "source": [
    "other.getNan()"
   ]
  },
  {
   "cell_type": "code",
   "execution_count": 11,
   "metadata": {},
   "outputs": [
    {
     "name": "stdout",
     "output_type": "stream",
     "text": [
      "Reading XLSX...\n",
      "Running feature NAN Analysis...\n",
      "Checking for PII Violations...\n",
      "Reporting...\n",
      "\n",
      " File: Parole pop subset \n",
      " File Type: xlsx \n",
      " Features: 30 \n",
      " Records: 15630 \n",
      "\n",
      " Possible PII Matches: 12 \n",
      " Hit Rate: 0.4 \n",
      "\n",
      " Possible Matches: ['Age', 'County of Residence', 'Current Admission Date', 'Custody Date', 'Date of Birth', 'MSR/Parole Date', 'Name', 'Projected Discharge Date', 'Residence Zip Code', 'Sentence Date', 'Sentencing County', 'Veteran Status'] \n"
     ]
    }
   ],
   "source": [
    "largeParoleData = PIIScan('data/Parole pop subset.xlsx')"
   ]
  },
  {
   "cell_type": "code",
   "execution_count": 12,
   "metadata": {},
   "outputs": [
    {
     "data": {
      "text/plain": [
       "Projected Discharge Date    0.097057\n",
       "Latitude                    0.001663\n",
       "Longitude                   0.001663\n",
       "New Offense Category        0.001599\n",
       "Years Until Discharge       0.097057\n",
       "dtype: float64"
      ]
     },
     "execution_count": 12,
     "metadata": {},
     "output_type": "execute_result"
    }
   ],
   "source": [
    "largeParoleData.getNan()"
   ]
  }
 ],
 "metadata": {
  "kernelspec": {
   "display_name": "Python 3",
   "language": "python",
   "name": "python3"
  },
  "language_info": {
   "codemirror_mode": {
    "name": "ipython",
    "version": 3
   },
   "file_extension": ".py",
   "mimetype": "text/x-python",
   "name": "python",
   "nbconvert_exporter": "python",
   "pygments_lexer": "ipython3",
   "version": "3.12.0"
  }
 },
 "nbformat": 4,
 "nbformat_minor": 2
}
