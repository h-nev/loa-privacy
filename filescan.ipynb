{
 "cells": [
  {
   "cell_type": "markdown",
   "metadata": {},
   "source": [
    "Enviornment for developing a quick method to scan through datasets and see what PPID and PID are included."
   ]
  },
  {
   "cell_type": "code",
   "execution_count": 46,
   "metadata": {},
   "outputs": [],
   "source": [
    "from scipy import stats\n",
    "import pandas as pd\n",
    "import numpy as np\n",
    "\n",
    "import seaborn as sns\n",
    "import matplotlib.pyplot as plt\n",
    "\n",
    "from pathlib import Path"
   ]
  },
  {
   "cell_type": "code",
   "execution_count": 2,
   "metadata": {},
   "outputs": [],
   "source": [
    "loc1 = 'data/chicagoParole.csv'\n",
    "loc2 = 'data/Strategic_Subject_List_-_Historical_20240320.csv'"
   ]
  },
  {
   "cell_type": "code",
   "execution_count": 26,
   "metadata": {},
   "outputs": [
    {
     "name": "stderr",
     "output_type": "stream",
     "text": [
      "/var/folders/sw/s4dmzgv113lb3_sdwwd28tv40000gn/T/ipykernel_93180/982260699.py:1: DtypeWarning: Columns (47) have mixed types. Specify dtype option on import or set low_memory=False.\n",
      "  pd.read_csv(loc2).columns\n"
     ]
    },
    {
     "data": {
      "text/plain": [
       "Index(['SSL SCORE', 'PREDICTOR RAT AGE AT LATEST ARREST',\n",
       "       'PREDICTOR RAT VICTIM SHOOTING INCIDENTS',\n",
       "       'PREDICTOR RAT VICTIM BATTERY OR ASSAULT',\n",
       "       'PREDICTOR RAT ARRESTS VIOLENT OFFENSES',\n",
       "       'PREDICTOR RAT GANG AFFILIATION', 'PREDICTOR RAT NARCOTIC ARRESTS',\n",
       "       'PREDICTOR RAT TREND IN CRIMINAL ACTIVITY', 'PREDICTOR RAT UUW ARRESTS',\n",
       "       'SEX CODE CD', 'RACE CODE CD', 'WEAPON I', 'DRUG I', 'AGE GROUP',\n",
       "       'AGE TO', 'STOP ORDER NO', 'PAROLEE I', 'LATEST DATE', 'LATEST DIST',\n",
       "       'MAJORITY DIST', 'DLST', 'LATEST DIST RES', 'WEAPONS ARR CNT',\n",
       "       'LATEST WEAPON ARR DATE', 'NARCOTICS ARR CNT',\n",
       "       'LATEST NARCOTIC ARR DATE', 'IDOC RES CITY', 'IDOC RES STATE CODE',\n",
       "       'IDOC RES ZIP CODE', 'IDOC CPD DIST', 'CPD ARREST I',\n",
       "       'DOMESTIC ARR CNT', 'LATEST DOMESTIC ARR DATE', 'AGE CURR',\n",
       "       'SSL LAST PTV DATE', 'TRAP STATUS', 'RAW SSL SCORE', 'HEAT SCORE',\n",
       "       'RAW_HEAT_SCORE', 'STATUS I', 'PRE RAW HEAT SCORE', 'TRAP FLAGS',\n",
       "       'SSL FLAGS', 'LATITUDE', 'LONGITUDE', 'CENSUS TRACT', 'COMMUNITY AREA',\n",
       "       'LOCATION'],\n",
       "      dtype='object')"
      ]
     },
     "execution_count": 26,
     "metadata": {},
     "output_type": "execute_result"
    }
   ],
   "source": [
    "pd.read_csv(loc2).columns"
   ]
  },
  {
   "cell_type": "code",
   "execution_count": 43,
   "metadata": {},
   "outputs": [],
   "source": [
    "def pii_violation(csv_filePath: str, pii_roots = ['Name', 'Date', 'Address', 'Residence', 'Code', 'Number', 'Age', 'Status', 'DOB', 'Year', 'Month', 'Day']):\n",
    "    # read in the CSV\n",
    "    data = pd.read_csv(csv_filePath)  \n",
    "\n",
    "    # create a lowercase version of whatever was passed in or the default list\n",
    "    pii_roots = [x.lower() for x in pii_roots] \n",
    "\n",
    "    # container for the hit columns\n",
    "    suspected_pii = []\n",
    "\n",
    "    # check each of the columns against our pii_roots (the default or a custom one)\n",
    "    for col in data.columns:\n",
    "        # make sure everything is the same regardless of casing\n",
    "        lowercol = col.lower()\n",
    "\n",
    "        # check the lower case versions, but append the normal column\n",
    "        if len(set(lowercol.split(' ')).intersection(pii_roots)) > 0:\n",
    "            # the roots matched, so the column(s) have a space as a delimiter\n",
    "            suspected_pii.append(col)\n",
    "\n",
    "        elif len(set(lowercol.split('_')).intersection(pii_roots)) > 0:\n",
    "            # the roots matched, so the column(s) have '_' as a delimiter\n",
    "            suspected_pii.append(col)\n",
    "        elif len(set(lowercol.split('-')).intersection(pii_roots)) > 0:\n",
    "            # the roots matched, so the column(s) have '-' as a delimiter\n",
    "            suspected_pii.append(col)\n",
    "\n",
    "    # hits in comparison to the columns\n",
    "    hitRate = round(len(suspected_pii) / len(data.columns), 2)\n",
    "\n",
    "    return suspected_pii, hitRate"
   ]
  },
  {
   "cell_type": "code",
   "execution_count": 54,
   "metadata": {},
   "outputs": [],
   "source": [
    "class PIIScan():\n",
    "    def __init__(self, filePath: str, pii = ['Name', 'Date', 'Address', 'Residence', 'Code', 'Number', 'Age', 'Status', 'DOB', 'Year', 'Month', 'Day']):\n",
    "        # save the file path, name, and extension (mainly for report purposes)\n",
    "        self.filePath = filePath\n",
    "        self.fileName = Path(filePath).stem\n",
    "        self.fileExtension = filePath.split('.')[-1]\n",
    "\n",
    "        # get and save the data\n",
    "        self.df = self._readFile()\n",
    "        self.features = self.df.columns\n",
    "\n",
    "        # save the lowercase version of roots passed in or used from default\n",
    "        self.roots = [root.lower() for root in pii]\n",
    "\n",
    "        # check for PII hits\n",
    "        print('Checking for PII Violations...')\n",
    "        self._piiViolation()\n",
    "\n",
    "        print('Finished\\n')\n",
    "\n",
    "    def __str__(self):\n",
    "        return f' File: {self.fileName} \\n File Type: {self.fileExtension} \\n Records: {len(self.df)} \\n\\n Possible PII Matches: {len(self.matches)} \\n Hit Rate: {self.hitRate} \\n\\n Possible Matches: {self.matches} '\n",
    "\n",
    "    def _readFile(self):\n",
    "        \n",
    "        if self.fileExtension == 'csv':\n",
    "            print('Reading CSV...')\n",
    "        \n",
    "            return pd.read_csv(self.filePath)\n",
    "        else:\n",
    "            print(f'Extension not recognized: {self.fileExtension}')\n",
    "        \n",
    "    def _piiViolation(self):\n",
    "        # container for the hit columns\n",
    "        suspected_pii = []\n",
    "\n",
    "        # check each of the columns against our pii_roots (the default or a custom one)\n",
    "        for col in self.features:\n",
    "            # make sure everything is the same regardless of casing\n",
    "            lowercol = col.lower()\n",
    "\n",
    "            # check the lower case versions, but append the normal column\n",
    "            if len(set(lowercol.split(' ')).intersection(self.roots)) > 0:\n",
    "                # the roots matched, so the column(s) have a space as a delimiter\n",
    "                suspected_pii.append(col)\n",
    "\n",
    "            elif len(set(lowercol.split('_')).intersection(self.roots)) > 0:\n",
    "                # the roots matched, so the column(s) have '_' as a delimiter\n",
    "                suspected_pii.append(col)\n",
    "\n",
    "            elif len(set(lowercol.split('-')).intersection(self.roots)) > 0:\n",
    "                # the roots matched, so the column(s) have '-' as a delimiter\n",
    "                suspected_pii.append(col)\n",
    "\n",
    "        self.matches = suspected_pii\n",
    "        self.hitRate = round(len(suspected_pii) / len(self.features), 2)"
   ]
  },
  {
   "cell_type": "code",
   "execution_count": 56,
   "metadata": {},
   "outputs": [
    {
     "name": "stdout",
     "output_type": "stream",
     "text": [
      "Reading CSV...\n",
      "Checking for PII Violations...\n",
      "Finished\n",
      "\n",
      " File: chicagoParole \n",
      " File Type: csv \n",
      " Records: 15630 \n",
      "\n",
      " Possible PII Matches: 11 \n",
      " Hit Rate: 0.37 \n",
      "\n",
      " Possible Matches: ['Name', 'Date of Birth', 'Veteran Status', 'Current Admission Date', 'MSR/Parole Date', 'Projected Discharge Date', 'Custody Date', 'Sentence Date', 'County of Residence', 'Residence Zip Code', 'Age'] \n"
     ]
    }
   ],
   "source": [
    "# default roots\n",
    "chicagoParole = PIIScan('data/chicagoParole.csv')\n",
    "print(chicagoParole)"
   ]
  },
  {
   "cell_type": "code",
   "execution_count": 57,
   "metadata": {},
   "outputs": [
    {
     "name": "stdout",
     "output_type": "stream",
     "text": [
      "Reading CSV...\n",
      "Checking for PII Violations...\n",
      "Finished\n",
      "\n"
     ]
    },
    {
     "name": "stderr",
     "output_type": "stream",
     "text": [
      "/var/folders/sw/s4dmzgv113lb3_sdwwd28tv40000gn/T/ipykernel_93180/4126370818.py:29: DtypeWarning: Columns (47) have mixed types. Specify dtype option on import or set low_memory=False.\n",
      "  return pd.read_csv(self.filePath)\n"
     ]
    }
   ],
   "source": [
    "other = PIIScan(loc2)"
   ]
  },
  {
   "cell_type": "code",
   "execution_count": 58,
   "metadata": {},
   "outputs": [
    {
     "name": "stdout",
     "output_type": "stream",
     "text": [
      " File: Strategic_Subject_List_-_Historical_20240320 \n",
      " File Type: csv \n",
      " Records: 398684 \n",
      "\n",
      " Possible PII Matches: 15 \n",
      " Hit Rate: 0.31 \n",
      "\n",
      " Possible Matches: ['PREDICTOR RAT AGE AT LATEST ARREST', 'SEX CODE CD', 'RACE CODE CD', 'AGE GROUP', 'AGE TO', 'LATEST DATE', 'LATEST WEAPON ARR DATE', 'LATEST NARCOTIC ARR DATE', 'IDOC RES STATE CODE', 'IDOC RES ZIP CODE', 'LATEST DOMESTIC ARR DATE', 'AGE CURR', 'SSL LAST PTV DATE', 'TRAP STATUS', 'STATUS I'] \n"
     ]
    }
   ],
   "source": [
    "print(other)"
   ]
  },
  {
   "cell_type": "code",
   "execution_count": null,
   "metadata": {},
   "outputs": [],
   "source": []
  }
 ],
 "metadata": {
  "kernelspec": {
   "display_name": "Python 3",
   "language": "python",
   "name": "python3"
  },
  "language_info": {
   "codemirror_mode": {
    "name": "ipython",
    "version": 3
   },
   "file_extension": ".py",
   "mimetype": "text/x-python",
   "name": "python",
   "nbconvert_exporter": "python",
   "pygments_lexer": "ipython3",
   "version": "3.12.0"
  }
 },
 "nbformat": 4,
 "nbformat_minor": 2
}
