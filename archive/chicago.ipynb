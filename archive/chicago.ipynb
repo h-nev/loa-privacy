{
 "cells": [
  {
   "cell_type": "code",
   "execution_count": 1,
   "metadata": {},
   "outputs": [],
   "source": [
    "from scipy import stats\n",
    "import pandas as pd\n",
    "import numpy as np\n",
    "\n",
    "import seaborn as sns\n",
    "import matplotlib.pyplot as plt"
   ]
  },
  {
   "cell_type": "code",
   "execution_count": 11,
   "metadata": {},
   "outputs": [],
   "source": [
    "def extremes(data):\n",
    "    return np.min(data), np.max(data)"
   ]
  },
  {
   "cell_type": "code",
   "execution_count": 2,
   "metadata": {},
   "outputs": [],
   "source": [
    "loc1 = 'data/chicagoParole.csv'\n",
    "loc2 = 'data/Strategic_Subject_List_-_Historical_20240320.csv'"
   ]
  },
  {
   "cell_type": "code",
   "execution_count": 7,
   "metadata": {},
   "outputs": [
    {
     "name": "stdout",
     "output_type": "stream",
     "text": [
      "(15630, 30)\n",
      "Index(['Unnamed: 0', 'IDOC #', 'Name', 'Date of Birth', 'Sex', 'Race',\n",
      "       'Veteran Status', 'Current Admission Date', 'Admission Type',\n",
      "       'Parent Institution', 'MSR/Parole Date', 'Projected Discharge Date',\n",
      "       'Custody Date', 'Sentence Date', 'Crime Class', 'Holding Offense',\n",
      "       'Holding Offense Category', 'Offense Type', 'Sentence Years',\n",
      "       'Sentence Months', 'Truth in Sentencing', 'Sentencing County',\n",
      "       'County of Residence', 'Residence Zip Code', 'Latitude', 'Longitude',\n",
      "       'TOC Offense Category', 'New Offense Category', 'Age',\n",
      "       'Years Until Discharge'],\n",
      "      dtype='object')\n"
     ]
    }
   ],
   "source": [
    "parole = pd.read_csv(loc1)\n",
    "\n",
    "print(parole.shape)\n",
    "print(parole.columns)"
   ]
  },
  {
   "cell_type": "code",
   "execution_count": 9,
   "metadata": {},
   "outputs": [
    {
     "name": "stdout",
     "output_type": "stream",
     "text": [
      "(398684, 48)\n",
      "Index(['SSL SCORE', 'PREDICTOR RAT AGE AT LATEST ARREST',\n",
      "       'PREDICTOR RAT VICTIM SHOOTING INCIDENTS',\n",
      "       'PREDICTOR RAT VICTIM BATTERY OR ASSAULT',\n",
      "       'PREDICTOR RAT ARRESTS VIOLENT OFFENSES',\n",
      "       'PREDICTOR RAT GANG AFFILIATION', 'PREDICTOR RAT NARCOTIC ARRESTS',\n",
      "       'PREDICTOR RAT TREND IN CRIMINAL ACTIVITY', 'PREDICTOR RAT UUW ARRESTS',\n",
      "       'SEX CODE CD', 'RACE CODE CD', 'WEAPON I', 'DRUG I', 'AGE GROUP',\n",
      "       'AGE TO', 'STOP ORDER NO', 'PAROLEE I', 'LATEST DATE', 'LATEST DIST',\n",
      "       'MAJORITY DIST', 'DLST', 'LATEST DIST RES', 'WEAPONS ARR CNT',\n",
      "       'LATEST WEAPON ARR DATE', 'NARCOTICS ARR CNT',\n",
      "       'LATEST NARCOTIC ARR DATE', 'IDOC RES CITY', 'IDOC RES STATE CODE',\n",
      "       'IDOC RES ZIP CODE', 'IDOC CPD DIST', 'CPD ARREST I',\n",
      "       'DOMESTIC ARR CNT', 'LATEST DOMESTIC ARR DATE', 'AGE CURR',\n",
      "       'SSL LAST PTV DATE', 'TRAP STATUS', 'RAW SSL SCORE', 'HEAT SCORE',\n",
      "       'RAW_HEAT_SCORE', 'STATUS I', 'PRE RAW HEAT SCORE', 'TRAP FLAGS',\n",
      "       'SSL FLAGS', 'LATITUDE', 'LONGITUDE', 'CENSUS TRACT', 'COMMUNITY AREA',\n",
      "       'LOCATION'],\n",
      "      dtype='object')\n"
     ]
    },
    {
     "name": "stderr",
     "output_type": "stream",
     "text": [
      "/var/folders/sw/s4dmzgv113lb3_sdwwd28tv40000gn/T/ipykernel_64752/3030744288.py:1: DtypeWarning: Columns (47) have mixed types. Specify dtype option on import or set low_memory=False.\n",
      "  arrests = pd.read_csv(loc2)\n"
     ]
    }
   ],
   "source": [
    "arrests = pd.read_csv(loc2)\n",
    "\n",
    "print(arrests.shape)\n",
    "print(arrests.columns)"
   ]
  },
  {
   "cell_type": "code",
   "execution_count": 14,
   "metadata": {},
   "outputs": [
    {
     "data": {
      "text/plain": [
       "(2006, 2016)"
      ]
     },
     "execution_count": 14,
     "metadata": {},
     "output_type": "execute_result"
    }
   ],
   "source": [
    "extremes(arrests['LATEST DATE'])"
   ]
  },
  {
   "cell_type": "code",
   "execution_count": 15,
   "metadata": {},
   "outputs": [
    {
     "data": {
      "text/plain": [
       "('1958-03-23 00:00:00', '2024-02-04 00:00:00')"
      ]
     },
     "execution_count": 15,
     "metadata": {},
     "output_type": "execute_result"
    }
   ],
   "source": [
    "extremes(parole['Custody Date'])"
   ]
  },
  {
   "cell_type": "code",
   "execution_count": null,
   "metadata": {},
   "outputs": [],
   "source": []
  }
 ],
 "metadata": {
  "kernelspec": {
   "display_name": "Python 3",
   "language": "python",
   "name": "python3"
  },
  "language_info": {
   "codemirror_mode": {
    "name": "ipython",
    "version": 3
   },
   "file_extension": ".py",
   "mimetype": "text/x-python",
   "name": "python",
   "nbconvert_exporter": "python",
   "pygments_lexer": "ipython3",
   "version": "3.12.0"
  }
 },
 "nbformat": 4,
 "nbformat_minor": 2
}
